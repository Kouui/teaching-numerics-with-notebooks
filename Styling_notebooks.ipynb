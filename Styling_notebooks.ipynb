{
 "metadata": {
  "name": "",
  "signature": "sha256:1c1707018c67033ae4e8c8775c92b01571019a8ce7e85d7a71a6ad940d7bbb95"
 },
 "nbformat": 3,
 "nbformat_minor": 0,
 "worksheets": [
  {
   "cells": [
    {
     "cell_type": "heading",
     "level": 1,
     "metadata": {},
     "source": [
      "Adding some style to the notebook"
     ]
    },
    {
     "cell_type": "markdown",
     "metadata": {},
     "source": [
      "### Teaching Numerical Methods with IPython Notebooks, SciPy 2014 \n",
      "\n",
      "### Aron Ahmadia (US Army ERDC) and David Ketcheson (KAUST)"
     ]
    },
    {
     "cell_type": "markdown",
     "metadata": {},
     "source": [
      "You can give your notebooks a distinctive flair, and perhaps make them more useful for your students, by modifying the way they look.\n",
      "\n",
      "The appearance of the IPython notebook is managed through **Cascading Style Sheets** (CSS), a widely-used web technology.  It's possible to make huge modifications to the notebook with CSS; we will just cover the basics."
     ]
    },
    {
     "cell_type": "heading",
     "level": 2,
     "metadata": {},
     "source": [
      "Applying a stylesheet"
     ]
    },
    {
     "cell_type": "markdown",
     "metadata": {},
     "source": [
      "You can apply a particular style locally to all notebooks you run by adding a `custom.css` file to your ipython profile directory.  This is fun, but not so useful for teaching, since it will only change the look of notebooks on your own machine.  What's needed is a way to distribute styling information with the notebook itself, so that anyone viewing it sees it the way you intended."
     ]
    },
    {
     "cell_type": "markdown",
     "metadata": {},
     "source": [
      "We can apply a CSS style to the notebook dynamically like this:"
     ]
    },
    {
     "cell_type": "code",
     "collapsed": false,
     "input": [
      "from IPython.core.display import HTML\n",
      "css_file = './example.css'\n",
      "HTML(open(css_file, \"r\").read())"
     ],
     "language": "python",
     "metadata": {},
     "outputs": [
      {
       "html": [
        "<link href='http://fonts.googleapis.com/css?family=Alegreya+Sans:100,300,400,500,700,800,900,100italic,300italic,400italic,500italic,700italic,800italic,900italic' rel='stylesheet' type='text/css'>\n",
        "<link href='http://fonts.googleapis.com/css?family=Arvo:400,700,400italic' rel='stylesheet' type='text/css'>\n",
        "<link href='http://fonts.googleapis.com/css?family=PT+Mono' rel='stylesheet' type='text/css'>\n",
        "<link href='http://fonts.googleapis.com/css?family=Shadows+Into+Light' rel='stylesheet' type='text/css'>\n",
        "<link href='http://fonts.googleapis.com/css?family=Philosopher:400,700,400italic,700italic' rel='stylesheet' type='text/css'>\n",
        "\n",
        "<style>\n",
        "\n",
        "@font-face {\n",
        "    font-family: \"Computer Modern\";\n",
        "    src: url('http://mirrors.ctan.org/fonts/cm-unicode/fonts/otf/cmunss.otf');\n",
        "}\n",
        "\n",
        "#notebook_panel { /* main background */\n",
        "    background: #888;\n",
        "    color: #f6f6f6;\n",
        "}\n",
        "\n",
        "div.cell { /* set cell width to about 80 chars */\n",
        "    width: 800px;\n",
        "}\n",
        "\n",
        "div #notebook { /* centre the content */\n",
        "    background: #fff; /* white background for content */\n",
        "    width: 1000px;\n",
        "    margin: auto;\n",
        "    padding-left: 1em;\n",
        "}\n",
        "\n",
        "#notebook li { /* More space between bullet points */\n",
        "margin-top:0.8em;\n",
        "}\n",
        "\n",
        "/* draw border around running cells */\n",
        "div.cell.border-box-sizing.code_cell.running { \n",
        "    border: 3px solid #111;\n",
        "}\n",
        "\n",
        "/* Put a solid color box around each cell and its output, visually linking them together */\n",
        "div.cell.code_cell {\n",
        "    background-color: rgba(171,165,131,0.3); \n",
        "    border-radius: 10px; /* rounded borders */\n",
        "    padding: 1em;\n",
        "    margin-top: 1em;\n",
        "}\n",
        "\n",
        "div.text_cell_render{\n",
        "    font-family: 'Arvo' sans-serif;\n",
        "    line-height: 130%;\n",
        "    font-size: 115%;\n",
        "    width:700px;\n",
        "    margin-left:auto;\n",
        "    margin-right:auto;\n",
        "}\n",
        "\n",
        "\n",
        "/* Formatting for header cells */\n",
        ".text_cell_render h1 {\n",
        "    font-family: 'Philosopher', sans-serif;\n",
        "    font-weight: 400;\n",
        "    font-size: 40pt;\n",
        "    line-height: 100%;\n",
        "    color: rgb(12,85,97);\n",
        "    margin-bottom: 0.1em;\n",
        "    margin-top: 0.1em;\n",
        "    display: block;\n",
        "}\t\n",
        ".text_cell_render h2 {\n",
        "    font-family: 'Philosopher', serif;\n",
        "    font-weight: 700;\n",
        "    font-size: 24pt;\n",
        "    line-height: 100%;\n",
        "    color: rgb(171,165,131);\n",
        "    margin-bottom: 0.1em;\n",
        "    margin-top: 0.1em;\n",
        "    display: block;\n",
        "}\t\n",
        "\n",
        ".text_cell_render h3 {\n",
        "    font-family: 'Philosopher', serif;\n",
        "    margin-top:12px;\n",
        "    margin-bottom: 3px;\n",
        "    font-style: italic;\n",
        "    color: rgb(95,92,72);\n",
        "}\n",
        "\n",
        ".text_cell_render h4 {\n",
        "    font-family: 'Philosopher', serif;\n",
        "}\n",
        "\n",
        ".text_cell_render h5 {\n",
        "    font-family: 'Alegreya Sans', sans-serif;\n",
        "    font-weight: 300;\n",
        "    font-size: 16pt;\n",
        "    color: grey;\n",
        "    font-style: italic;\n",
        "    margin-bottom: .1em;\n",
        "    margin-top: 0.1em;\n",
        "    display: block;\n",
        "}\n",
        "\n",
        ".text_cell_render h6 {\n",
        "    font-family: 'PT Mono', sans-serif;\n",
        "    font-weight: 300;\n",
        "    font-size: 10pt;\n",
        "    color: grey;\n",
        "    margin-bottom: 1px;\n",
        "    margin-top: 1px;\n",
        "}\n",
        "\n",
        ".CodeMirror{\n",
        "        font-family: \"PT Mono\";\n",
        "        font-size: 100%;\n",
        "}\n",
        "\n",
        "</style>\n"
       ],
       "metadata": {},
       "output_type": "pyout",
       "prompt_number": 1,
       "text": [
        "<IPython.core.display.HTML at 0x1020336d0>"
       ]
      }
     ],
     "prompt_number": 1
    },
    {
     "cell_type": "markdown",
     "metadata": {},
     "source": [
      "This is slightly intrusive -- ideally, the styling would be applied without the user needing to know or do anything about it.  Such a solution is in the works, but for now the code above is the best approach available.  It simply injects the contents of `css_file` in the header of the notebook's HTML file.  Any file can be used just by replacing the path stored in `css_file`."
     ]
    },
    {
     "cell_type": "heading",
     "level": 2,
     "metadata": {},
     "source": [
      "Using CSS with the Notebook"
     ]
    },
    {
     "cell_type": "markdown",
     "metadata": {},
     "source": [
      "Let's take a look at the contents of that CSS file, using IPython's `%cat` magic function:"
     ]
    },
    {
     "cell_type": "code",
     "collapsed": false,
     "input": [
      "%cat 'example.css'"
     ],
     "language": "python",
     "metadata": {},
     "outputs": []
    },
    {
     "cell_type": "markdown",
     "metadata": {},
     "source": [
      "There's a lot there (notice that the notebook created a scrollable section because the output was so long).  Let's walk through this custom stylesheet one piece at a time.\n",
      "\n",
      "---\n",
      "\n",
      "The first section is actually pure HTML, not CSS:\n",
      "\n",
      "```html\n",
      "<link href='http://fonts.googleapis.com/css?family=Alegreya+Sans:100,300,400,500,700,800,900,100italic,300italic,400italic,500italic,700italic,800italic,900italic' rel='stylesheet' type='text/css'>\n",
      "<link href='http://fonts.googleapis.com/css?family=Arvo:400,700,400italic' rel='stylesheet' type='text/css'>\n",
      "<link href='http://fonts.googleapis.com/css?family=PT+Mono' rel='stylesheet' type='text/css'>\n",
      "<link href='http://fonts.googleapis.com/css?family=Shadows+Into+Light' rel='stylesheet' type='text/css'>\n",
      "<link href='http://fonts.googleapis.com/css?family=Philosopher:400,700,400italic,700italic' rel='stylesheet' type='text/css'>\n",
      "```\n",
      "\n",
      "This loads a bunch of [Google fonts]() that we are going to use.  If you use fonts that are usually installed on most OS's, you don't need a section like this."
     ]
    },
    {
     "cell_type": "markdown",
     "metadata": {},
     "source": [
      "---\n",
      "\n",
      "```css\n",
      "<style>\n",
      "\n",
      "@font-face {\n",
      "    font-family: \"Computer Modern\";\n",
      "    src: url('http://mirrors.ctan.org/fonts/cm-unicode/fonts/otf/cmunss.otf');\n",
      "}\n",
      "```\n",
      "\n",
      "The `style` tag indicates that the rest of the file is CSS."
     ]
    },
    {
     "cell_type": "markdown",
     "metadata": {},
     "source": [
      "---\n",
      "\n",
      "```css\n",
      "#notebook_panel { /* main background */\n",
      "    background: #888;\n",
      "    color: #f6f6f6;\n",
      "}\n",
      "```\n",
      "The notebook's width is limited to a maximum number of pixels.  Here we set the color for the area outside the notebook, on either side."
     ]
    },
    {
     "cell_type": "markdown",
     "metadata": {},
     "source": [
      "---\n",
      "\n",
      "```css\n",
      "div.cell { /* set cell width to about 80 chars */\n",
      "    width: 800px;\n",
      "}\n",
      "```\n",
      "This sets the maximum width of notebook cells.  This can be helpful to keep longer sections of text readable if the browser is maximized on a wide screen."
     ]
    },
    {
     "cell_type": "markdown",
     "metadata": {},
     "source": [
      "---\n",
      "\n",
      "```css\n",
      "div #notebook { /* centre the content */\n",
      "    background: #fff; /* white background for content */\n",
      "    width: 1000px;\n",
      "    margin: auto;\n",
      "    padding-left: 1em;\n",
      "}\n",
      "```\n",
      "\n",
      "This centers the notebook cells (roughly), sets the notebook background to white, and sets a width that is reasonable on most laptops."
     ]
    },
    {
     "cell_type": "markdown",
     "metadata": {},
     "source": [
      "```css\n",
      "#notebook li { /* More space between bullet points */\n",
      "margin-top:0.8em;\n",
      "}\n",
      "```\n",
      "\n",
      "Just what it says: more space between items in Markdown-rendered bulleted lists."
     ]
    },
    {
     "cell_type": "markdown",
     "metadata": {},
     "source": [
      "---\n",
      "\n",
      "```css\n",
      "/* draw border around running cells */\n",
      "div.cell.border-box-sizing.code_cell.running {\n",
      "    border: 3px solid #111;\n",
      "}\n",
      "```\n",
      "\n",
      "This very useful bit of styling causes a dark border to appear around cells that are running, until they finish.  Try it out by running the cell below."
     ]
    },
    {
     "cell_type": "code",
     "collapsed": false,
     "input": [
      "import time\n",
      "time.sleep(5)"
     ],
     "language": "python",
     "metadata": {},
     "outputs": []
    },
    {
     "cell_type": "markdown",
     "metadata": {},
     "source": [
      "```css\n",
      "/* Put a solid color box around each cell and its output, visually linking them together */\n",
      "div.cell.code_cell {\n",
      "    background-color: rgba(171,165,131,0.3); \n",
      "    border-radius: 10px; /* rounded borders */\n",
      "    padding: 1em;\n",
      "    margin-top: 1em;\n",
      "}\n",
      "```\n",
      "\n",
      "This sets code cell backgrounds to grey (to distinguish them from text) and adds a tan-colored background grouping around the outside of the input and output for each code cell.  It also adds a margin above the cell, so that consecutive code cell borders don't touch.  Try it out by running the cell below."
     ]
    },
    {
     "cell_type": "code",
     "collapsed": false,
     "input": [
      "for i in range(5):\n",
      "    print i"
     ],
     "language": "python",
     "metadata": {},
     "outputs": []
    },
    {
     "cell_type": "markdown",
     "metadata": {},
     "source": [
      "---\n",
      "\n",
      "```css\n",
      "div.text_cell_render{\n",
      "    font-family: 'Arvo' sans-serif;\n",
      "    line-height: 130%;\n",
      "    font-size: 115%;\n",
      "    width:700px;\n",
      "    margin-left:auto;\n",
      "    margin-right:auto;\n",
      "}\n",
      "```\n",
      "\n",
      "This sets the width, font, and size of text in Markdown cells."
     ]
    },
    {
     "cell_type": "markdown",
     "metadata": {},
     "source": [
      "---\n",
      "\n",
      "```css\n",
      "/* Formatting for header cells */\n",
      ".text_cell_render h1 {\n",
      "    font-family: 'Philosopher', sans-serif;\n",
      "    font-weight: 400;\n",
      "    font-size: 64pt;\n",
      "    line-height: 100%;\n",
      "    color: rgb(12,85,97);\n",
      "    margin-bottom: 0.1em;\n",
      "    margin-top: 0.1em;\n",
      "    display: block;\n",
      "}\n",
      "```\n",
      "\n",
      "As explained earlier, Markdown supports six levels of headers.  This block sets the style of text designated as header level 1 (either designated by a single hash `#` at the beginning of the line, or by setting the cell type to `h1`.  The next blocks set the style of header levels `h2` through `h6`.  Since I usually use at most 3 levels of headings, `h4` through `h6` are actually used as shortcuts for other styling needs."
     ]
    },
    {
     "cell_type": "markdown",
     "metadata": {},
     "source": [
      "```css\n",
      ".text_cell_render h2 {\n",
      "    font-family: 'Philosopher', serif;\n",
      "    font-weight: 700;\n",
      "    font-size: 24pt;\n",
      "    line-height: 100%;\n",
      "    color: rgb(171,165,131);\n",
      "    margin-bottom: 0.1em;\n",
      "    margin-top: 0.1em;\n",
      "    display: block;\n",
      "}\t\n",
      "\n",
      ".text_cell_render h3 {\n",
      "    font-family: 'Philosopher', serif;\n",
      "    margin-top:12px;\n",
      "    margin-bottom: 3px;\n",
      "    font-style: italic;\n",
      "    color: rgb(95,92,72);\n",
      "}\n",
      "\n",
      ".text_cell_render h4 {\n",
      "    font-family: 'Philosopher', serif;\n",
      "}\n",
      "\n",
      ".text_cell_render h5 {\n",
      "    font-family: 'Alegreya Sans', sans-serif;\n",
      "    font-weight: 300;\n",
      "    font-size: 16pt;\n",
      "    color: grey;\n",
      "    font-style: italic;\n",
      "    margin-bottom: .1em;\n",
      "    margin-top: 0.1em;\n",
      "    display: block;\n",
      "}\n",
      "\n",
      ".text_cell_render h6 {\n",
      "    font-family: 'PT Mono', sans-serif;\n",
      "    font-weight: 300;\n",
      "    font-size: 10pt;\n",
      "    color: grey;\n",
      "    margin-bottom: 1px;\n",
      "    margin-top: 1px;\n",
      "}\n",
      "```"
     ]
    },
    {
     "cell_type": "markdown",
     "metadata": {},
     "source": [
      "Here are examples of each header level:\n",
      "\n",
      "# h1\n",
      "\n",
      "## h2\n",
      "\n",
      "### h3\n",
      "\n",
      "#### h4\n",
      "\n",
      "##### h5\n",
      "\n",
      "###### h6"
     ]
    },
    {
     "cell_type": "markdown",
     "metadata": {},
     "source": [
      "---\n",
      "\n",
      "```css\n",
      ".CodeMirror{\n",
      "        font-family: \"PT Mono\";\n",
      "        font-size: 100%;\n",
      "}\n",
      "```\n",
      "The notebook uses CodeMirror (a webservice) for syntax highlighting of code.  This block tells CodeMirror to use the `PT Mono` font.  Here *Mono* is short for *monospaced*, meaning that each character in this font occupies exactly the same amount of horizontal space.  It's generally recommended to stick to monospaced fonts for code."
     ]
    },
    {
     "cell_type": "markdown",
     "metadata": {},
     "source": [
      "Finally, we indicate the end of the CSS style information:\n",
      "\n",
      "```html\n",
      "</style>\n",
      "```"
     ]
    },
    {
     "cell_type": "markdown",
     "metadata": {},
     "source": [
      "## More resources\n",
      "\n",
      "If you've never used CSS, there are a number of good tutorials available on the web.  Once you understand a bit of CSS, all you need to know are the names that IPython uses for the different sections of the notebook.  Unfortunately, these are not well documented at the moment.  The best place to start with styling your own notebooks are the many examples out there:\n",
      "\n",
      "- [HyperPython styling]() ([sample notebook]())\n",
      "- [AeroPython styling]() ([sample notebook]())\n",
      "- [Louic Vermeer's custom CSS](http://blog.louic.nl/?p=683)\n",
      "- [48 themes for your IPython notebook](http://www.damian.oquanta.info/posts/48-themes-for-your-ipython-notebook.html) from Damian Avila\n",
      "- [Somebody's custom.css from Github](https://github.com/panditarevolution/ipythonNotebook_customs/blob/master/monokai/custom.css)"
     ]
    },
    {
     "cell_type": "code",
     "collapsed": false,
     "input": [],
     "language": "python",
     "metadata": {},
     "outputs": []
    }
   ],
   "metadata": {}
  }
 ]
}