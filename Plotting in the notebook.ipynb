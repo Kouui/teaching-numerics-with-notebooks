{
 "metadata": {
  "name": "",
  "signature": "sha256:b5f0a23736d263f47764a97687577b2528579133e254af4771d5c9c1889c0f21"
 },
 "nbformat": 3,
 "nbformat_minor": 0,
 "worksheets": [
  {
   "cells": [
    {
     "cell_type": "heading",
     "level": 1,
     "metadata": {},
     "source": [
      "Plotting in the notebook"
     ]
    },
    {
     "cell_type": "heading",
     "level": 3,
     "metadata": {},
     "source": [
      "Aron Ahmadia (US Army ERDC) and David Ketcheson (KAUST)"
     ]
    },
    {
     "cell_type": "heading",
     "level": 3,
     "metadata": {},
     "source": [
      "Teaching Numerical Methods with IPython Notebooks, SciPy 2014"
     ]
    },
    {
     "cell_type": "markdown",
     "metadata": {},
     "source": [
      "<a rel=\"license\" href=\"http://creativecommons.org/licenses/by/4.0/\"><img alt=\"Creative Commons License\" style=\"border-width:0\" src=\"https://i.creativecommons.org/l/by/4.0/80x15.png\" /></a><br /><span xmlns:dct=\"http://purl.org/dc/terms/\" property=\"dct:title\">This lecture</span> by <a xmlns:cc=\"http://creativecommons.org/ns#\" property=\"cc:attributionName\" rel=\"cc:attributionURL\">Aron Ahmadia and David Ketcheson</a> is licensed under a <a rel=\"license\" href=\"http://creativecommons.org/licenses/by/4.0/\">Creative Commons Attribution 4.0 International License</a>.  All code examples are also licensed under the [MIT license](http://opensource.org/licenses/MIT)."
     ]
    },
    {
     "cell_type": "code",
     "collapsed": false,
     "input": [
      "from IPython.core.display import HTML\n",
      "css_file = './example.css'\n",
      "HTML(open(css_file, \"r\").read())"
     ],
     "language": "python",
     "metadata": {},
     "outputs": [
      {
       "html": [
        "<link href='http://fonts.googleapis.com/css?family=Alegreya+Sans:100,300,400,500,700,800,900,100italic,300italic,400italic,500italic,700italic,800italic,900italic' rel='stylesheet' type='text/css'>\n",
        "<link href='http://fonts.googleapis.com/css?family=Arvo:400,700,400italic' rel='stylesheet' type='text/css'>\n",
        "<link href='http://fonts.googleapis.com/css?family=PT+Mono' rel='stylesheet' type='text/css'>\n",
        "<link href='http://fonts.googleapis.com/css?family=Shadows+Into+Light' rel='stylesheet' type='text/css'>\n",
        "<link href='http://fonts.googleapis.com/css?family=Philosopher:400,700,400italic,700italic' rel='stylesheet' type='text/css'>\n",
        "\n",
        "<style>\n",
        "\n",
        "@font-face {\n",
        "    font-family: \"Computer Modern\";\n",
        "    src: url('http://mirrors.ctan.org/fonts/cm-unicode/fonts/otf/cmunss.otf');\n",
        "}\n",
        "\n",
        "#notebook_panel { /* main background */\n",
        "    background: #888;\n",
        "    color: #f6f6f6;\n",
        "}\n",
        "\n",
        "div.cell { /* set cell width to about 80 chars */\n",
        "    width: 800px;\n",
        "}\n",
        "\n",
        "div #notebook { /* centre the content */\n",
        "    background: #fff; /* white background for content */\n",
        "    width: 1000px;\n",
        "    margin: auto;\n",
        "    padding-left: 1em;\n",
        "}\n",
        "\n",
        "#notebook li { /* More space between bullet points */\n",
        "margin-top:0.8em;\n",
        "}\n",
        "\n",
        "/* draw border around running cells */\n",
        "div.cell.border-box-sizing.code_cell.running { \n",
        "    border: 3px solid #111;\n",
        "}\n",
        "\n",
        "/* Put a solid color box around each cell and its output, visually linking them together */\n",
        "div.cell.code_cell {\n",
        "    background-color: rgba(171,165,131,1.0); \n",
        "    border-radius: 10px; /* rounded borders */\n",
        "    padding: 1em;\n",
        "    margin-top: 1em;\n",
        "}\n",
        "\n",
        "div.text_cell_render{\n",
        "    font-family: 'Arvo' sans-serif;\n",
        "    line-height: 130%;\n",
        "    font-size: 115%;\n",
        "    width:700px;\n",
        "    margin-left:auto;\n",
        "    margin-right:auto;\n",
        "}\n",
        "\n",
        "\n",
        "/* Formatting for header cells */\n",
        ".text_cell_render h1 {\n",
        "    font-family: 'Philosopher', sans-serif;\n",
        "    font-weight: 400;\n",
        "    font-size: 40pt;\n",
        "    line-height: 100%;\n",
        "    color: rgb(12,85,97);\n",
        "    margin-bottom: 0.1em;\n",
        "    margin-top: 0.1em;\n",
        "    display: block;\n",
        "}\t\n",
        ".text_cell_render h2 {\n",
        "    font-family: 'Philosopher', serif;\n",
        "    font-weight: 700;\n",
        "    font-size: 24pt;\n",
        "    line-height: 100%;\n",
        "    color: rgb(171,165,131);\n",
        "    margin-bottom: 0.1em;\n",
        "    margin-top: 0.1em;\n",
        "    display: block;\n",
        "}\t\n",
        "\n",
        ".text_cell_render h3 {\n",
        "    font-family: 'Philosopher', serif;\n",
        "    margin-top:12px;\n",
        "    margin-bottom: 3px;\n",
        "    font-style: italic;\n",
        "    color: rgb(95,92,72);\n",
        "}\n",
        "\n",
        ".text_cell_render h4 {\n",
        "    font-family: 'Philosopher', serif;\n",
        "}\n",
        "\n",
        ".text_cell_render h5 {\n",
        "    font-family: 'Alegreya Sans', sans-serif;\n",
        "    font-weight: 300;\n",
        "    font-size: 16pt;\n",
        "    color: grey;\n",
        "    font-style: italic;\n",
        "    margin-bottom: .1em;\n",
        "    margin-top: 0.1em;\n",
        "    display: block;\n",
        "}\n",
        "\n",
        ".text_cell_render h6 {\n",
        "    font-family: 'PT Mono', sans-serif;\n",
        "    font-weight: 300;\n",
        "    font-size: 10pt;\n",
        "    color: grey;\n",
        "    margin-bottom: 1px;\n",
        "    margin-top: 1px;\n",
        "}\n",
        "\n",
        ".CodeMirror{\n",
        "        font-family: \"PT Mono\";\n",
        "        font-size: 100%;\n",
        "}\n",
        "\n",
        "</style>\n"
       ],
       "metadata": {},
       "output_type": "pyout",
       "prompt_number": 12,
       "text": [
        "<IPython.core.display.HTML at 0x108f1cc90>"
       ]
      }
     ],
     "prompt_number": 12
    },
    {
     "cell_type": "markdown",
     "metadata": {},
     "source": [
      "One of the major advantages of the notebook over a traditional textbook is that **plots** of numerical solutions can be included with the **code** that produces them -- and the student can modify and execute that code, to see how the result changes!  Better yet, **animations** and **interactive widgets** can be included to show the evolution of time-dependent solutions, or the dependence of results on some parameter(s).  Here we'll explore some of the tools for producing such plots and animations.  Some of these are very new and are still evolving rapidly."
     ]
    },
    {
     "cell_type": "markdown",
     "metadata": {},
     "source": [
      "In order to make things more interesting and relevant, we'll demonstrate these options in the context of a PDE solution."
     ]
    },
    {
     "cell_type": "markdown",
     "metadata": {},
     "source": [
      "# The model\n",
      "\n",
      "We'll solve a system of reaction-diffusion PDEs in two dimensions:\n",
      "\n",
      "\\begin{align}\n",
      "u_t & = \\delta D_1 \\nabla^2 u + f(u,v) \\\\\n",
      "v_t & = \\delta D_2 \\nabla^2 v + g(u,v)\n",
      "\\end{align}\n",
      "\n",
      "where $\\nabla^2 u = u_{xx} + u_{yy}$ denotes the Laplacian and $f,g$ represent reaction terms.\n",
      "\n",
      "For simplicity, we'll consider the square domain $[-1,1]\\times[-1,1]$ with periodic boundary conditions; i.e., the conditions on $u(x,y,t)$ are\n",
      "\n",
      "\\begin{align}\n",
      "u(-1,y,t) & = u(1,y,t) \\\\\n",
      "u(x,-1,t) & = u(x,1,t)\n",
      "\\end{align}\n",
      "\n",
      "with corresponding conditions on $v$.  The reaction terms we will use are\n",
      "\n",
      "\\begin{align}\n",
      "f(u,v) & = \\alpha u (1-\\tau_1 v^2) + v(1-\\tau_2 u) \\\\\n",
      "g(u,v) & = \\beta v + \\alpha \\tau_1 u v^2 + u (\\gamma + \\tau_2 v).\n",
      "\\end{align}"
     ]
    },
    {
     "cell_type": "code",
     "collapsed": false,
     "input": [
      "import numpy as np\n",
      "import scipy.optimize\n",
      "import scipy.sparse\n",
      "\n",
      "def f(u,v):\n",
      "    return alpha*u*(1-tau1*v**2) + v*(1-tau2*u);\n",
      "\n",
      "def g(u,v):\n",
      "    return beta*v*(1+alpha*tau1/beta*u*v) + u*(gamma+tau2*v);\n",
      "\n",
      "def five_pt_laplacian_sparse_periodic(m,a,b):\n",
      "    \"\"\"Construct a sparse matrix that applies the 5-point laplacian discretization\n",
      "       with periodic BCs on all sides.\"\"\"\n",
      "    e=np.ones(m**2)\n",
      "    e2=([1]*(m-1)+[0])*m\n",
      "    e3=([0]+[1]*(m-1))*m\n",
      "    h=(b-a)/(m+1)\n",
      "    A=scipy.sparse.spdiags([-4*e,e2,e3,e,e],[0,-1,1,-m,m],m**2,m**2)\n",
      "    # Top & bottom BCs:\n",
      "    A_periodic = scipy.sparse.spdiags([e,e],[m-m**2,m**2-m],m**2,m**2).tolil()\n",
      "    # Left & right BCs:\n",
      "    for i in range(m):\n",
      "        A_periodic[i*m,(i+1)*m-1] = 1.\n",
      "        A_periodic[(i+1)*m-1,i*m] = 1.\n",
      "    A = A + A_periodic\n",
      "    A/=h**2\n",
      "    A = A.todia()\n",
      "    return A\n",
      "\n",
      "def one_step(u,v,k,A,delta,D1=0.5,D2=1.0):\n",
      "    u_new = u + k * (delta*D1*A*u + f(u,v))\n",
      "    v_new = v + k * (delta*D2*A*v + g(u,v))\n",
      "    \n",
      "    return u_new, v_new\n",
      "\n",
      "def step_size(h,delta):\n",
      "    return h**2/(5.*delta)"
     ],
     "language": "python",
     "metadata": {},
     "outputs": []
    },
    {
     "cell_type": "heading",
     "level": 2,
     "metadata": {},
     "source": [
      "Matplotlib: static plots"
     ]
    },
    {
     "cell_type": "markdown",
     "metadata": {},
     "source": [
      "As a first example of a plot, let's just look at the sparsity structure of the numerical laplacian matrix produced by the provided function above.  By default, matplotlib plots will open in a separate window, just as they would if we were plotting from an IPython command line.  To get them to appear in the notebook, we use an IPython magic function"
     ]
    },
    {
     "cell_type": "code",
     "collapsed": false,
     "input": [
      "%matplotlib inline"
     ],
     "language": "python",
     "metadata": {},
     "outputs": []
    },
    {
     "cell_type": "code",
     "collapsed": false,
     "input": [
      "A = five_pt_laplacian_sparse_periodic(4,-1.,1.)\n",
      "import matplotlib.pyplot as plt\n",
      "plt.spy(A)"
     ],
     "language": "python",
     "metadata": {},
     "outputs": []
    },
    {
     "cell_type": "markdown",
     "metadata": {},
     "source": [
      "Now let's solve the reaction-diffusion PDE and plot the solution (note that the methods we're using here are not very accurate or efficient, but they're good enough to give a qualitatively correct solution in reasonable time on a small grid)."
     ]
    },
    {
     "cell_type": "code",
     "collapsed": false,
     "input": [
      "delta=0.0021; tau1=3.5; tau2=0; alpha=0.899; beta=-0.91; gamma=-alpha;\n",
      "\n",
      "def set_up(m, T, a=-1., b=1.):\n",
      "    # Set up the grid\n",
      "    a=-1.; b=1.\n",
      "    h=(b-a)/m;                 # Grid spacing\n",
      "    x = np.linspace(a,b,m)     # Coordinates\n",
      "    y = np.linspace(a,b,m)\n",
      "\n",
      "    # Initial data\n",
      "    u=np.random.randn(m,m)/2.;\n",
      "    v=np.random.randn(m,m)/2.;\n",
      "\n",
      "    plt.clf(); plt.hold(False)\n",
      "    plt.pcolormesh(x,y,u); plt.colorbar(); plt.axis('image');\n",
      "    plt.draw()\n",
      "    \n",
      "    u=u.reshape(-1)\n",
      "    v=v.reshape(-1)\n",
      "\n",
      "    A=five_pt_laplacian_sparse_periodic(m,-1.,1.)\n",
      "\n",
      "    k = step_size(h,delta)    # Time step size\n",
      "    N = int(round(T/k))      # Number of steps to take\n",
      "    \n",
      "    return x, y, u, v, A, k, N\n",
      "    \n",
      "def pattern_formation(m,T):\n",
      "    r\"\"\"Model pattern formation by solving a reaction-diffusion PDE on a periodic\n",
      "        square domain with an m x m grid.\"\"\"\n",
      "    x, y, u, v, A, k, N = set_up(m,T)\n",
      "    t=0.                      # Initial time\n",
      "    \n",
      "    #Now step forward in time\n",
      "    for j in range(N):\n",
      "\n",
      "        u,v = one_step(u,v,k,A,delta)      \n",
      "        t = t+k;\n",
      "\n",
      "    # Plot the final solution\n",
      "    U=u.reshape((m,m))\n",
      "\n",
      "    plt.pcolormesh(x,y,U)\n",
      "    plt.colorbar()\n",
      "    plt.axis('image')\n",
      "    plt.show()"
     ],
     "language": "python",
     "metadata": {},
     "outputs": []
    },
    {
     "cell_type": "code",
     "collapsed": false,
     "input": [
      "pattern_formation(m=100,T=200)"
     ],
     "language": "python",
     "metadata": {},
     "outputs": []
    },
    {
     "cell_type": "markdown",
     "metadata": {},
     "source": [
      "Having the plot in the notebook is nice, but there are major drawbacks:\n",
      "\n",
      "- We can't zoom or pan the plot interactively\n",
      "- If a single cell produces multiple plots, only the last one appears (try it)\n",
      "- Thus we only see the final state of a time-dependent solution\n",
      "\n",
      "There are straightforward ways to get multiple plots from one cell, and even to plot several snapshots of a time-dependent solution.  But it would be much nicer if the solution plot actually evolved in time.  Here's a crude way to accomplish that:"
     ]
    },
    {
     "cell_type": "code",
     "collapsed": false,
     "input": [
      "import time\n",
      "from IPython.display import display, clear_output\n",
      "\n",
      "def pattern_formation(m,T):\n",
      "    x, y, u, v, A, k, N = set_up(m,T)\n",
      "    t=0.                      # Initial time\n",
      "    \n",
      "    #Now step forward in time\n",
      "    next_plot = 0\n",
      "    for j in range(N):\n",
      "\n",
      "        u,v = one_step(u,v,k,A,delta)        \n",
      "        t = t+k;\n",
      "\n",
      "        #Plot every t=5 units\n",
      "        if t>next_plot:\n",
      "            clear_output(wait=True)\n",
      "            next_plot = next_plot + 5\n",
      "            U=u.reshape((m,m))\n",
      "            time.sleep(0.2)\n",
      "            plt.pcolormesh(x,y,U); plt.axis('image'); plt.title(str(t))\n",
      "            fig=plt.gcf(); display(fig)\n",
      "    \n",
      "    return U"
     ],
     "language": "python",
     "metadata": {},
     "outputs": []
    },
    {
     "cell_type": "code",
     "collapsed": false,
     "input": [
      "U = pattern_formation(m=100,T=50)\n",
      "plt.close('all')"
     ],
     "language": "python",
     "metadata": {},
     "outputs": []
    },
    {
     "cell_type": "markdown",
     "metadata": {},
     "source": [
      "See [this notebook for more examples of using `clear_output`](http://nbviewer.ipython.org/github/ipython/ipython/blob/2.x/examples/Notebook/Animations%20Using%20clear_output.ipynb)."
     ]
    },
    {
     "cell_type": "heading",
     "level": 2,
     "metadata": {},
     "source": [
      "Interactive plots"
     ]
    },
    {
     "cell_type": "markdown",
     "metadata": {},
     "source": [
      "What if we want to be able to zoom and pan?  That's a bit harder, but there are multiple solutions either just developed or in the works.  "
     ]
    },
    {
     "cell_type": "heading",
     "level": 3,
     "metadata": {},
     "source": [
      "Plotly"
     ]
    },
    {
     "cell_type": "markdown",
     "metadata": {},
     "source": [
      "One is [Plotly](https://plot.ly/plot), a web-based service that generates interactive plots and allows them to be embedded in the notebook.  To use it, you should set up an account.  But for this tutorial, you can just run the following code using my account."
     ]
    },
    {
     "cell_type": "code",
     "collapsed": false,
     "input": [
      "import plotly\n",
      "import plotly.plotly as py  \n",
      "py.sign_in('DavidKetcheson','mgs2lgb203')\n",
      "\n",
      "py.iplot([plotly.graph_objs.Heatmap(z=U)],width=500,height=500)"
     ],
     "language": "python",
     "metadata": {},
     "outputs": []
    },
    {
     "cell_type": "markdown",
     "metadata": {},
     "source": [
      "Notice that you can get actual data values by hovering over the plot.  You can also adjust the plot's look interactively on the Plotly website.  For many more examples of using Plotly in the IPython notebook, see [this notebook](http://nbviewer.ipython.org/gist/chriddyp/7628933) and [this notebook](http://nbviewer.ipython.org/github/plotly/IPython-plotly/blob/master/Plotly%20Quickstart.ipynb), both of which are introductions to Plotly.  For a few more examples of plotting numerical simulation results with Plotly, look at [my notebook on Stegotons](http://nbviewer.ipython.org/gist/ketch/8554686).\n",
      "\n",
      "Importantly, usage of Plotly requires an internet connection."
     ]
    },
    {
     "cell_type": "heading",
     "level": 3,
     "metadata": {},
     "source": [
      "Bokeh"
     ]
    },
    {
     "cell_type": "markdown",
     "metadata": {},
     "source": [
      "Another package that can produce interactive plots in the notebook (this time without needing an internet connection) is [Bokeh](http://bokeh.pydata.org/).  I couldn't get a `pcolor` plot example working with Bokeh (I think it's possible, but it's in beta and changing rapidly).  Here is a very simple line plot example."
     ]
    },
    {
     "cell_type": "code",
     "collapsed": false,
     "input": [
      "from bokeh.plotting import output_notebook, scatter, show, line\n",
      "output_notebook()"
     ],
     "language": "python",
     "metadata": {},
     "outputs": []
    },
    {
     "cell_type": "code",
     "collapsed": false,
     "input": [
      "x = np.linspace(0, 4*np.pi, 100)\n",
      "y = np.sin(x)\n",
      "line(x,y, color=\"#FF00FF\", tools=\"pan,wheel_zoom,box_zoom,reset,resize\")\n",
      "show()"
     ],
     "language": "python",
     "metadata": {},
     "outputs": []
    },
    {
     "cell_type": "markdown",
     "metadata": {},
     "source": [
      "Animated plots are also possible with Bokeh, but we won't spend more time on it because the interface will change in the near future (they plan to integrate with IPython widgets)."
     ]
    },
    {
     "cell_type": "heading",
     "level": 3,
     "metadata": {},
     "source": [
      "Other prospects"
     ]
    },
    {
     "cell_type": "markdown",
     "metadata": {},
     "source": [
      "Some other projects that allow (or may soon allow) for interactive plots in the browser include:\n",
      "\n",
      "- [mpld3](http://mpld3.github.io/): a combination of matplotlib and [D3js](http://d3js.org/).  See [examples here](http://mpld3.github.io/examples/index.html#example-gallery).\n",
      "- [Vincent](http://vincent.readthedocs.org/en/latest/index.html)\n",
      "- [Vispy](http://vispy.org/)\n",
      "\n",
      "The last two are still too new to go into in this tutorial, but may be useful soon."
     ]
    },
    {
     "cell_type": "heading",
     "level": 2,
     "metadata": {},
     "source": [
      "JSAnimation: animated plots"
     ]
    },
    {
     "cell_type": "markdown",
     "metadata": {},
     "source": [
      "Thanks to Jake Vanderplas' [JSAnimation](http://nbviewer.ipython.org/github/jakevdp/JSAnimation/blob/master/animation_example.ipynb) library, we have a much better way to include animations of time-dependent solutions.  I've been using JSAnimation heavily in my teaching notebooks, but it will soon be replaced by tools based on IPython widgets."
     ]
    },
    {
     "cell_type": "heading",
     "level": 3,
     "metadata": {},
     "source": [
      "Installing JSAnimation"
     ]
    },
    {
     "cell_type": "markdown",
     "metadata": {},
     "source": [
      "If you're running on SageMathCloud, you already have access to JSAnimation through Clawpack, via\n",
      "\n",
      "    from clawpack.visclaw.JSAnimation import IPython_display\n",
      "    \n",
      "If you're working locally, the easiest way to get it is\n",
      "\n",
      "    git clone https://github.com/jakevdp/JSAnimation.git\n",
      "    cd JSAnimation\n",
      "    python setup.py install\n",
      "    \n",
      "after which you can\n",
      "\n",
      "    from JSAnimation import IPython_display"
     ]
    },
    {
     "cell_type": "code",
     "collapsed": false,
     "input": [
      "def pattern_formation(m=10,T=1000):\n",
      "    # Set up the grid\n",
      "    a=-1.; b=1.\n",
      "    h=(b-a)/m;                 # Grid spacing\n",
      "    x = np.linspace(a,b,m)     # Coordinates\n",
      "    y = np.linspace(a,b,m)\n",
      "    Y,X = np.meshgrid(y,x)\n",
      "\n",
      "    # Initial data\n",
      "    u=np.random.randn(m,m)/2.;\n",
      "    v=np.random.randn(m,m)/2.;\n",
      "\n",
      "    frames = [u]\n",
      "    \n",
      "    u=u.reshape(-1)\n",
      "    v=v.reshape(-1)\n",
      "\n",
      "    A=five_pt_laplacian_sparse_periodic(m,-1.,1.)\n",
      "\n",
      "    t=0.                      # Initial time\n",
      "    k = step_size(h,delta)    # Time step size\n",
      "    N = int(round(T/k))      # Number of steps to take\n",
      "    \n",
      "    #Now step forward in time\n",
      "    next_plot = 0\n",
      "    for j in range(N):\n",
      "        #Plot every t=5 units\n",
      "        if t>=next_plot:\n",
      "            next_plot = next_plot + 5\n",
      "            U=u.reshape((m,m))\n",
      "            frames.append(U)\n",
      "            \n",
      "        u,v = one_step(u,v,k,A,delta)\n",
      "        t = t+k;\n",
      "            \n",
      "    return x,y,frames"
     ],
     "language": "python",
     "metadata": {},
     "outputs": []
    },
    {
     "cell_type": "code",
     "collapsed": false,
     "input": [
      "x, y, frames = pattern_formation(m=100,T=200)"
     ],
     "language": "python",
     "metadata": {},
     "outputs": []
    },
    {
     "cell_type": "code",
     "collapsed": false,
     "input": [
      "from matplotlib import animation\n",
      "import matplotlib.pyplot as plt\n",
      "#from clawpack.visclaw.JSAnimation import IPython_display  # Works on SMC\n",
      "from JSAnimation import IPython_display\n",
      "import numpy as np\n",
      "\n",
      "fig = plt.figure(figsize=[4,4])\n",
      "\n",
      "U = frames[0]\n",
      "\n",
      "# This essentially does a pcolor plot, but it returns the appropriate object\n",
      "# for use in animation.  See http://matplotlib.org/examples/pylab_examples/pcolor_demo.html.\n",
      "# Note that it's necessary to transpose the data array because of the way imshow works.\n",
      "plot_handle = plt.imshow(U.T, vmin=U.min(), vmax=U.max(),\n",
      "           extent=[x.min(), x.max(), y.min(), y.max()],\n",
      "           interpolation='nearest', origin='lower')\n",
      "\n",
      "def fplot(frame_number):\n",
      "    U = frames[frame_number]\n",
      "    plot_handle.set_data(U.T)\n",
      "    return plot_handle,\n",
      "\n",
      "animation.FuncAnimation(fig, fplot, frames=len(frames), interval=20)"
     ],
     "language": "python",
     "metadata": {},
     "outputs": []
    },
    {
     "cell_type": "markdown",
     "metadata": {},
     "source": [
      "Notice that `FuncAnimation` takes three arguments:\n",
      "\n",
      "- A matplotlib figure\n",
      "- A plotting function\n",
      "- A list of frame indices\n",
      "\n",
      "Using JSAnimation can be a little tricky, because we need to provide a function (called `fplot` here) that returns a handle to a plot of one frame of the solution.  It's not enough for `fplot` to simply plot the solution.  That's why we first get a handle to the plot and then use `set_data` to modify the plot each time `fplot` is called.\n",
      "\n",
      "Also, notice that the `frames` argument can be any list.  Typically, it would be a list of numbers, but more generally it is just the list of argument values that need to be passed to `fplot`."
     ]
    },
    {
     "cell_type": "markdown",
     "metadata": {},
     "source": [
      "See also: IPython widgets (up next)"
     ]
    }
   ],
   "metadata": {}
  }
 ]
}