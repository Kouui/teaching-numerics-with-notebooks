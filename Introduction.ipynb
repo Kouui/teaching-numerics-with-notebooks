{
 "metadata": {
  "name": "",
  "signature": "sha256:72affc010a2aa23af8053c93488a06c74e7eaf7808b6d29cde74c3ba9fb3c6b4"
 },
 "nbformat": 3,
 "nbformat_minor": 0,
 "worksheets": [
  {
   "cells": [
    {
     "cell_type": "heading",
     "level": 1,
     "metadata": {},
     "source": [
      "Teaching Numerical Methods with IPython Notebooks"
     ]
    },
    {
     "cell_type": "heading",
     "level": 3,
     "metadata": {
      "slideshow": {
       "slide_type": "fragment"
      }
     },
     "source": [
      "Aron Ahmadia (US Army ERDC) and David Ketcheson (KAUST)"
     ]
    },
    {
     "cell_type": "markdown",
     "metadata": {},
     "source": [
      "<a rel=\"license\" href=\"http://creativecommons.org/licenses/by/4.0/\"><img alt=\"Creative Commons License\" style=\"border-width:0\" src=\"https://i.creativecommons.org/l/by/4.0/80x15.png\" /></a><br /><span xmlns:dct=\"http://purl.org/dc/terms/\" property=\"dct:title\">This lecture</span> by <a xmlns:cc=\"http://creativecommons.org/ns#\" property=\"cc:attributionName\" rel=\"cc:attributionURL\">Aron Ahmadia and David Ketcheson</a> is licensed under a <a rel=\"license\" href=\"http://creativecommons.org/licenses/by/4.0/\">Creative Commons Attribution 4.0 International License</a>.  All code examples are also licensed under the [MIT license](http://opensource.org/licenses/MIT)."
     ]
    },
    {
     "cell_type": "code",
     "collapsed": false,
     "input": [
      "from IPython.core.display import HTML\n",
      "css_file = './example.css'\n",
      "HTML(open(css_file, \"r\").read())"
     ],
     "language": "python",
     "metadata": {
      "slideshow": {
       "slide_type": "skip"
      }
     },
     "outputs": [
      {
       "html": [
        "<link href='http://fonts.googleapis.com/css?family=Alegreya+Sans:100,300,400,500,700,800,900,100italic,300italic,400italic,500italic,700italic,800italic,900italic' rel='stylesheet' type='text/css'>\n",
        "<link href='http://fonts.googleapis.com/css?family=Arvo:400,700,400italic' rel='stylesheet' type='text/css'>\n",
        "<link href='http://fonts.googleapis.com/css?family=PT+Mono' rel='stylesheet' type='text/css'>\n",
        "<link href='http://fonts.googleapis.com/css?family=Shadows+Into+Light' rel='stylesheet' type='text/css'>\n",
        "<link href='http://fonts.googleapis.com/css?family=Philosopher:400,700,400italic,700italic' rel='stylesheet' type='text/css'>\n",
        "\n",
        "<style>\n",
        "\n",
        "@font-face {\n",
        "    font-family: \"Computer Modern\";\n",
        "    src: url('http://mirrors.ctan.org/fonts/cm-unicode/fonts/otf/cmunss.otf');\n",
        "}\n",
        "\n",
        "#notebook_panel { /* main background */\n",
        "    background: #888;\n",
        "    color: #f6f6f6;\n",
        "}\n",
        "\n",
        "div.cell { /* set cell width to about 80 chars */\n",
        "    width: 800px;\n",
        "}\n",
        "\n",
        "div #notebook { /* centre the content */\n",
        "    background: #fff; /* white background for content */\n",
        "    width: 1000px;\n",
        "    margin: auto;\n",
        "    padding-left: 1em;\n",
        "}\n",
        "\n",
        "#notebook li { /* More space between bullet points */\n",
        "margin-top:0.8em;\n",
        "}\n",
        "\n",
        "/* draw border around running cells */\n",
        "div.cell.border-box-sizing.code_cell.running { \n",
        "    border: 3px solid #111;\n",
        "}\n",
        "\n",
        "/* Put a solid color box around each cell and its output, visually linking them together */\n",
        "div.cell.code_cell {\n",
        "    background-color: rgba(171,165,131,1.0); \n",
        "    border-radius: 10px; /* rounded borders */\n",
        "    padding: 1em;\n",
        "    margin-top: 1em;\n",
        "}\n",
        "\n",
        "div.text_cell_render{\n",
        "    font-family: 'Arvo' sans-serif;\n",
        "    line-height: 130%;\n",
        "    font-size: 115%;\n",
        "    width:700px;\n",
        "    margin-left:auto;\n",
        "    margin-right:auto;\n",
        "}\n",
        "\n",
        "\n",
        "/* Formatting for header cells */\n",
        ".text_cell_render h1 {\n",
        "    font-family: 'Philosopher', sans-serif;\n",
        "    font-weight: 400;\n",
        "    font-size: 40pt;\n",
        "    line-height: 100%;\n",
        "    color: rgb(12,85,97);\n",
        "    margin-bottom: 0.1em;\n",
        "    margin-top: 0.1em;\n",
        "    display: block;\n",
        "}\t\n",
        ".text_cell_render h2 {\n",
        "    font-family: 'Philosopher', serif;\n",
        "    font-weight: 700;\n",
        "    font-size: 24pt;\n",
        "    line-height: 100%;\n",
        "    color: rgb(171,165,131);\n",
        "    margin-bottom: 0.1em;\n",
        "    margin-top: 0.1em;\n",
        "    display: block;\n",
        "}\t\n",
        "\n",
        ".text_cell_render h3 {\n",
        "    font-family: 'Philosopher', serif;\n",
        "    margin-top:12px;\n",
        "    margin-bottom: 3px;\n",
        "    font-style: italic;\n",
        "    color: rgb(95,92,72);\n",
        "}\n",
        "\n",
        ".text_cell_render h4 {\n",
        "    font-family: 'Philosopher', serif;\n",
        "}\n",
        "\n",
        ".text_cell_render h5 {\n",
        "    font-family: 'Alegreya Sans', sans-serif;\n",
        "    font-weight: 300;\n",
        "    font-size: 16pt;\n",
        "    color: grey;\n",
        "    font-style: italic;\n",
        "    margin-bottom: .1em;\n",
        "    margin-top: 0.1em;\n",
        "    display: block;\n",
        "}\n",
        "\n",
        ".text_cell_render h6 {\n",
        "    font-family: 'PT Mono', sans-serif;\n",
        "    font-weight: 300;\n",
        "    font-size: 10pt;\n",
        "    color: grey;\n",
        "    margin-bottom: 1px;\n",
        "    margin-top: 1px;\n",
        "}\n",
        "\n",
        ".CodeMirror{\n",
        "        font-family: \"PT Mono\";\n",
        "        font-size: 100%;\n",
        "}\n",
        "\n",
        "</style>\n"
       ],
       "metadata": {},
       "output_type": "pyout",
       "prompt_number": 1,
       "text": [
        "<IPython.core.display.HTML at 0x1020336d0>"
       ]
      }
     ],
     "prompt_number": 1
    },
    {
     "cell_type": "heading",
     "level": 2,
     "metadata": {},
     "source": [
      "Scope"
     ]
    },
    {
     "cell_type": "markdown",
     "metadata": {
      "slideshow": {
       "slide_type": "slide"
      }
     },
     "source": [
      "This course is about how to use IPython notebooks in teaching.  It's based on our experience teaching semester-length university courses as well as short courses for academia and industry.  Although the examples will be drawn from courses on numerical methods, many of the ideas may be useful for other courses in which Python is used."
     ]
    },
    {
     "cell_type": "markdown",
     "metadata": {
      "slideshow": {
       "slide_type": "slide"
      }
     },
     "source": [
      "A course in numerical methods should enable students to:\n",
      "\n",
      "1. **Understand** numerical algorithms and related mathematical concepts like\n",
      "   complexity, stability, and convergence\n",
      "2. **Select** an appropriate method for a given problem\n",
      "3. **Implement** the selected numerical algorithm\n",
      "4. **Test** and debug the numerical implementation"
     ]
    },
    {
     "cell_type": "markdown",
     "metadata": {
      "slideshow": {
       "slide_type": "fragment"
      }
     },
     "source": [
      "Many courses focus almost entirely on the first objective, but all four are essential.  It's worth devoting significant time in class to each of them.  That means that students should code *in class*.  The IPython notebook is a great tool for this.\n",
      "\n",
      "Notebooks can also be used in a more traditional course; for instance\n",
      "\n",
      "- to distribute and collect homework exercises;\n",
      "- for occasional laboratory sessions;\n",
      "- as a textbook or course notes."
     ]
    },
    {
     "cell_type": "markdown",
     "metadata": {
      "slideshow": {
       "slide_type": "slide"
      }
     },
     "source": [
      "## The IPython notebook as a teaching medium\n",
      "\n",
      "The notebook combines in a single document\n",
      "\n",
      "- Mathematics (using LaTeX)\n",
      "- Text (using Markdown)\n",
      "- Code (in Python or other languages)\n",
      "- Figures and animations\n",
      "\n",
      "We'll go into this in more detail in a few minutes."
     ]
    },
    {
     "cell_type": "markdown",
     "metadata": {
      "slideshow": {
       "slide_type": "fragment"
      }
     },
     "source": [
      "[Here's an example.](http://nbviewer.ipython.org/github/ketch/HyperPython/blob/master/Lesson_02_Traffic.ipynb)"
     ]
    },
    {
     "cell_type": "heading",
     "level": 2,
     "metadata": {
      "slideshow": {
       "slide_type": "slide"
      }
     },
     "source": [
      "More Examples"
     ]
    },
    {
     "cell_type": "markdown",
     "metadata": {
      "slideshow": {
       "slide_type": "fragment"
      }
     },
     "source": [
      "The IPython notebook is already being used as a medium of instruction for courses in numerical methods or scientific computing:\n",
      "\n",
      "- [AeroPython](http://lorenabarba.com/blog/announcing-aeropython/) (Lorena Barba)\n",
      "- [12 Steps to Navier-Stokes](http://lorenabarba.com/blog/cfd-python-12-steps-to-navier-stokes/) (Lorena Barba)\n",
      "- [Numerical analysis of DEs](https://github.com/ketch/AMCS252) (DK) ([see also notebooks from previous years](https://github.com/ketch/finite-difference-course))\n",
      "- [HyperPython](https://github.com/ketch/HyperPython) (DK)\n",
      "\n",
      "More course materials (in many subjects!), can be found in this curated list: \n",
      "\n",
      "[A gallery of interesting IPython Notebooks](https://github.com/ipython/ipython/wiki/A-gallery-of-interesting-IPython-Notebooks)"
     ]
    },
    {
     "cell_type": "heading",
     "level": 2,
     "metadata": {
      "slideshow": {
       "slide_type": "slide"
      }
     },
     "source": [
      "Other resources"
     ]
    },
    {
     "cell_type": "markdown",
     "metadata": {
      "slideshow": {
       "slide_type": "fragment"
      }
     },
     "source": [
      "This tutorial is primarily focused on the technical aspects of using IPython notebooks for teaching.  For more discussion of pedagogical aspects, see also:\n",
      "\n",
      "- [Teaching with the IPython Notebook](http://nbviewer.ipython.org/gist/jiffyclub/5165431) by Matt Davis\n",
      "- [How IPython Notebook and Github have changed the way I teach Python](http://peak5390.wordpress.com/2013/09/22/how-ipython-notebook-and-github-have-changed-the-way-i-teach-python/) by Eric Matthes\n",
      "- [Using the IPython Notebook as a Teaching Tool](http://www.software-carpentry.org/blog/2013/03/using-notebook-as-a-teaching-tool.html) by Greg Wilson\n",
      "- [Teaching with ipython notebooks -- a progress report](http://ivory.idyll.org/blog/teaching-with-ipynb-2.html) by C. Titus Brown"
     ]
    },
    {
     "cell_type": "heading",
     "level": 2,
     "metadata": {
      "slideshow": {
       "slide_type": "slide"
      }
     },
     "source": [
      "Running notebooks in the cloud"
     ]
    },
    {
     "cell_type": "markdown",
     "metadata": {
      "slideshow": {
       "slide_type": "fragment"
      }
     },
     "source": [
      "In courses using Python, achieving a working installation of all necessary libraries for every student used to be difficult.  No longer!  The major scientific Python packages are now easy to install on all major platforms (e.g., using [Canopy](https://www.enthought.com/products/canopy/) or [Anaconda](https://store.continuum.io/cshop/anaconda/)).  "
     ]
    },
    {
     "cell_type": "markdown",
     "metadata": {
      "slideshow": {
       "slide_type": "fragment"
      }
     },
     "source": [
      "An even more painless solution is to use a **cloud service**.  Two cloud services for running IPython notebooks are currently available:\n",
      "\n",
      "- [Sage Math Cloud](http://cloud.sagemath.org>)\n",
      "- [Wakari](http://wakari.io)\n",
      "\n",
      "Both allow **free accounts**, and include all the most common scientific Python packages by default."
     ]
    },
    {
     "cell_type": "heading",
     "level": 2,
     "metadata": {},
     "source": [
      "Distributing notebooks"
     ]
    },
    {
     "cell_type": "markdown",
     "metadata": {},
     "source": [
      "If you keep your materials in a Github repository, students can easily get them using Sage Math Cloud (without knowing git) or by cloning (with knowing git)."
     ]
    },
    {
     "cell_type": "markdown",
     "metadata": {},
     "source": [
      "A dead simple way to distribute a notebook is by using Dropbox and nbviewer.  Just put the notebook in your public Dropbox folder, get the public link to it, and paste that into [nbviewer](http://nbviewer.ipython.org/).  Give the resulting URL to your students, and they can both view and download the notebook.  For example, [here is a link to this notebook on nbviewer through Dropbox](http://nbviewer.ipython.org/urls/dl.dropboxusercontent.com/u/656693/Introduction.ipynb)."
     ]
    },
    {
     "cell_type": "markdown",
     "metadata": {},
     "source": [
      "Another very useful tool for distributing notebooks is [gist](http://gist.github.com/)."
     ]
    },
    {
     "cell_type": "heading",
     "level": 2,
     "metadata": {},
     "source": [
      "Collecting notebooks"
     ]
    },
    {
     "cell_type": "markdown",
     "metadata": {},
     "source": [
      "- Have each student/group add you as a collaborator to their SMC project.  Then you have direct access to their notebooks.  It is helpful to have them put their name or ID number in the project name.\n",
      "- Have students post their notebook on the web (using dropbox or Github) and send you the link.\n",
      "- In small courses, evaluation can be done in-class, with students showing their work to the class.  This can also be done in somewhat larger classes if students work in groups."
     ]
    }
   ],
   "metadata": {}
  }
 ]
}